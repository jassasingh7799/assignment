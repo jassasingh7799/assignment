{
 "cells": [
  {
   "cell_type": "markdown",
   "id": "5646b92b-8903-4412-8eaf-5c4f2cad8bec",
   "metadata": {},
   "source": [
    "#What is the purpose of the len() function in Python, and how can it be used with strings?\n",
    "len() function is used to count the number of characters in a string."
   ]
  },
  {
   "cell_type": "code",
   "execution_count": 1,
   "id": "88d36d74-792e-45a0-9aa8-9c1b9eaaf55c",
   "metadata": {},
   "outputs": [
    {
     "name": "stdout",
     "output_type": "stream",
     "text": [
      "7\n"
     ]
    }
   ],
   "source": [
    "#example-\n",
    "S='Jasmeet'\n",
    "print(len(S))"
   ]
  },
  {
   "cell_type": "markdown",
   "id": "30eda3f6-8da9-413b-bf59-78c75f690bee",
   "metadata": {},
   "source": [
    "#How can you concatenate two or more strings in Python, and can you provide an example of string concatenation?\n",
    "\n",
    "String concatenation means combining two strings together and we can combine two strings using '+' operator and using 'join'"
   ]
  },
  {
   "cell_type": "code",
   "execution_count": 8,
   "id": "5d2da24e-f048-483d-9739-a618409edbd5",
   "metadata": {},
   "outputs": [
    {
     "name": "stdout",
     "output_type": "stream",
     "text": [
      "Jasmeet Singh\n"
     ]
    }
   ],
   "source": [
    "#example '+' operator\n",
    "str1='Jasmeet'\n",
    "str2=' Singh'\n",
    "\n",
    "str=str1 + str2\n",
    "print(str)"
   ]
  },
  {
   "cell_type": "code",
   "execution_count": 12,
   "id": "3d4639c3-f9e5-42d9-bb5f-bb013e304655",
   "metadata": {},
   "outputs": [
    {
     "name": "stdout",
     "output_type": "stream",
     "text": [
      "Jasmeet Singh\n"
     ]
    }
   ],
   "source": [
    "#example 'join' operator\n",
    "str1=['Jasmeet','Singh']\n",
    "\n",
    "str=' '.join(str1)\n",
    "print(str)"
   ]
  },
  {
   "cell_type": "markdown",
   "id": "7c20f382-9133-44ef-877d-f249b1f0a982",
   "metadata": {},
   "source": [
    "#What is string slicing in Python, and how can you extract a portion of a string using this method?\n",
    "\n",
    "String slicing is used to extract a part of the string by specifying the start and end index."
   ]
  },
  {
   "cell_type": "code",
   "execution_count": 14,
   "id": "b79ee03b-f787-4b82-8b93-a4c9b55eabc6",
   "metadata": {},
   "outputs": [
    {
     "name": "stdout",
     "output_type": "stream",
     "text": [
      "meet\n"
     ]
    }
   ],
   "source": [
    "#example of string slicing\n",
    "\n",
    "S='Jasmeet Singh Arora'\n",
    "print(S[3:7])"
   ]
  },
  {
   "cell_type": "markdown",
   "id": "25d37bcb-4e3f-41b1-9237-8c87ca4c17da",
   "metadata": {},
   "source": [
    "#How can you change the case of a string in Python, and can you provide examples of both making a string all uppercase and all lowercase?\n",
    "\n",
    "Yes we can change the case of a string to upper case to lower case using lower() or upper() function."
   ]
  },
  {
   "cell_type": "code",
   "execution_count": 16,
   "id": "ba71757d-afc6-4b24-9e3f-d05d0a9d4f2d",
   "metadata": {},
   "outputs": [
    {
     "name": "stdout",
     "output_type": "stream",
     "text": [
      "JASMEET\n",
      "jasmeet\n"
     ]
    }
   ],
   "source": [
    "#example \n",
    "\n",
    "S='Jasmeet'\n",
    "print(S.upper())\n",
    "print(S.lower())"
   ]
  },
  {
   "cell_type": "markdown",
   "id": "74f22d1a-e765-404d-956e-d7db423d09f4",
   "metadata": {},
   "source": [
    "#What does the split() method do in Python, and how can you split a string using a specific delimiter?\n",
    "Spilt method in string is used to split the string into list of substrings.It uses delimiter to split the string into list of substrings."
   ]
  },
  {
   "cell_type": "code",
   "execution_count": 17,
   "id": "d60b1a25-7025-4aac-b0f1-033032e68f3e",
   "metadata": {},
   "outputs": [
    {
     "name": "stdout",
     "output_type": "stream",
     "text": [
      "['Jasmeet', 'Singh', 'Arora']\n"
     ]
    }
   ],
   "source": [
    "#Example 1 using space as delimiter\n",
    "\n",
    "S='Jasmeet Singh Arora'\n",
    "print(S.split( ))"
   ]
  },
  {
   "cell_type": "code",
   "execution_count": 18,
   "id": "3a9e6376-f497-48cc-845a-95be76a87c8e",
   "metadata": {},
   "outputs": [
    {
     "name": "stdout",
     "output_type": "stream",
     "text": [
      "['Jasmeet', 'Singh', 'Arora']\n"
     ]
    }
   ],
   "source": [
    "#Example 2 using , as a delimiter\n",
    "\n",
    "S='Jasmeet,Singh,Arora'\n",
    "print(S.split(','))"
   ]
  },
  {
   "cell_type": "code",
   "execution_count": null,
   "id": "1f982f5f-581c-4bd2-b8ad-0d44befb959f",
   "metadata": {},
   "outputs": [],
   "source": []
  }
 ],
 "metadata": {
  "kernelspec": {
   "display_name": "Python 3 (ipykernel)",
   "language": "python",
   "name": "python3"
  },
  "language_info": {
   "codemirror_mode": {
    "name": "ipython",
    "version": 3
   },
   "file_extension": ".py",
   "mimetype": "text/x-python",
   "name": "python",
   "nbconvert_exporter": "python",
   "pygments_lexer": "ipython3",
   "version": "3.13.0"
  }
 },
 "nbformat": 4,
 "nbformat_minor": 5
}
