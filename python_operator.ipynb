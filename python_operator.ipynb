{
 "cells": [
  {
   "cell_type": "code",
   "execution_count": 1,
   "id": "39bf4315-1716-44b8-9bac-e3d34429bd18",
   "metadata": {},
   "outputs": [
    {
     "name": "stdout",
     "output_type": "stream",
     "text": [
      "12\n",
      "8\n",
      "20\n",
      "0\n"
     ]
    }
   ],
   "source": [
    "#Calculate the sum, difference, product, and quotient of two numbers.\n",
    "a=10\n",
    "b=2\n",
    "sum=a+b\n",
    "difference=a-b\n",
    "product=a*b\n",
    "quotient=a%b\n",
    "print(sum)\n",
    "print(difference)\n",
    "print(product)\n",
    "print(quotient)"
   ]
  },
  {
   "cell_type": "code",
   "execution_count": 2,
   "id": "2e523e6f-3689-43b0-95f9-ac8ae79a6bda",
   "metadata": {},
   "outputs": [
    {
     "name": "stdout",
     "output_type": "stream",
     "text": [
      "30\n",
      "24\n",
      "15.0\n",
      "20\n",
      "2\n"
     ]
    }
   ],
   "source": [
    "#Perform various assignment operations on a variable.\n",
    "a=10\n",
    "a+=20\n",
    "b=12\n",
    "b*=2\n",
    "c=30\n",
    "c/=2\n",
    "d=50\n",
    "d-=30\n",
    "\n",
    "e=50\n",
    "e%=3\n",
    "\n",
    "print(a)\n",
    "print(b)\n",
    "print(c)\n",
    "print(d)\n",
    "print(e)"
   ]
  },
  {
   "cell_type": "code",
   "execution_count": 5,
   "id": "7fa271f2-406c-4984-a2f9-7558aa5d55e1",
   "metadata": {},
   "outputs": [
    {
     "name": "stdout",
     "output_type": "stream",
     "text": [
      "15 is greater than 10\n"
     ]
    }
   ],
   "source": [
    "#Compare two numbers and print the results.\n",
    "a=15\n",
    "b=10\n",
    "\n",
    "if a>b:\n",
    "    print(f'{a} is greater than {b}')\n",
    "else:\n",
    "    print(f'{b} is greater than {a}')"
   ]
  },
  {
   "cell_type": "code",
   "execution_count": 8,
   "id": "6ff2dede-ec39-43dd-9f6b-9ddf165f7abc",
   "metadata": {},
   "outputs": [
    {
     "name": "stdout",
     "output_type": "stream",
     "text": [
      "5 is greater than zero and -10 is less than zero\n"
     ]
    }
   ],
   "source": [
    "#Check conditions using logical operators.\n",
    "\n",
    "a=-10\n",
    "b=5\n",
    "\n",
    "if a>0 and b>0:\n",
    "    print('Both the numbers are greater than 0')\n",
    "elif a>0 and b<0:\n",
    "    print(f'{a} is greater than zero and {b} is less than zero')\n",
    "else:\n",
    "    print(f'{b} is greater than zero and {a} is less than zero')  "
   ]
  },
  {
   "cell_type": "code",
   "execution_count": 11,
   "id": "c82ae932-259d-4623-b8a8-47f583a9e657",
   "metadata": {},
   "outputs": [
    {
     "name": "stdout",
     "output_type": "stream",
     "text": [
      "Both the vairable of same type\n"
     ]
    }
   ],
   "source": [
    "#Check the identity of variables.\n",
    "\n",
    "a=[1,2,3,4,5,6,7,8]\n",
    "b=a\n",
    "# b=[1,2,3,4,5,6,7,8]\n",
    "\n",
    "if a is b:\n",
    "    print('Both the vairable of same type')\n",
    "else:\n",
    "    print('Both the vairable of different type')"
   ]
  },
  {
   "cell_type": "code",
   "execution_count": 18,
   "id": "2f8e0b5e-2ff5-4381-8c61-27832d78e18b",
   "metadata": {},
   "outputs": [
    {
     "name": "stdout",
     "output_type": "stream",
     "text": [
      "5&3=1\n",
      "5|3=7\n",
      "5^3=6\n",
      "~5=-6\n",
      "~3=-4\n",
      "a<<1=10\n",
      "a>>1=2\n"
     ]
    }
   ],
   "source": [
    "#Perform bitwise operations on any two integers.\n",
    "a=5\n",
    "b=3\n",
    "\n",
    "and_res=a&b\n",
    "print(f'{a}&{b}={and_res}')\n",
    "\n",
    "or_res=a|b\n",
    "print(f'{a}|{b}={or_res}')\n",
    "\n",
    "xor_res=a^b\n",
    "print(f'{a}^{b}={xor_res}')\n",
    "\n",
    "not_a=~a\n",
    "not_b=~b\n",
    "\n",
    "print(f'~{a}={not_a}')\n",
    "print(f'~{b}={not_b}')\n",
    "\n",
    "left_shift=a<<1\n",
    "print(f'a<<1={left_shift}')\n",
    "\n",
    "left_shift=a>>1\n",
    "print(f'a>>1={left_shift}')"
   ]
  },
  {
   "cell_type": "code",
   "execution_count": 20,
   "id": "c0be09d1-b7e5-461f-b6b8-17ed72280606",
   "metadata": {},
   "outputs": [
    {
     "name": "stdout",
     "output_type": "stream",
     "text": [
      "Value of number is -100\n",
      "Negated value of number is 100\n"
     ]
    }
   ],
   "source": [
    "#Use unary operators to change the sign of a number.\n",
    "\n",
    "a=-100\n",
    "negated_a=-a\n",
    "\n",
    "print(f'Value of number is {a}')\n",
    "print(f'Negated value of number is {negated_a}')\n"
   ]
  },
  {
   "cell_type": "code",
   "execution_count": 24,
   "id": "e6648f94-732a-4ccb-8d25-bcda89de5284",
   "metadata": {},
   "outputs": [
    {
     "name": "stdout",
     "output_type": "stream",
     "text": [
      "Largest of 20 and 15 is 20\n"
     ]
    }
   ],
   "source": [
    "#Use the ternary operator to assign values based on conditions.\n",
    "\n",
    "a=20\n",
    "b=15\n",
    "\n",
    "largest_number= a if a>b else b\n",
    "\n",
    "print(f'Largest of {a} and {b} is {largest_number}')"
   ]
  },
  {
   "cell_type": "code",
   "execution_count": null,
   "id": "cb9b7227-6d1f-403f-a15c-8073a33822d5",
   "metadata": {},
   "outputs": [],
   "source": []
  }
 ],
 "metadata": {
  "kernelspec": {
   "display_name": "Python 3 (ipykernel)",
   "language": "python",
   "name": "python3"
  },
  "language_info": {
   "codemirror_mode": {
    "name": "ipython",
    "version": 3
   },
   "file_extension": ".py",
   "mimetype": "text/x-python",
   "name": "python",
   "nbconvert_exporter": "python",
   "pygments_lexer": "ipython3",
   "version": "3.13.0"
  }
 },
 "nbformat": 4,
 "nbformat_minor": 5
}
