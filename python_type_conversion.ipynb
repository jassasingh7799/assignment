{
 "cells": [
  {
   "cell_type": "code",
   "execution_count": 1,
   "id": "412907c0-bb47-477c-a788-8619e96c379b",
   "metadata": {
    "editable": true,
    "slideshow": {
     "slide_type": ""
    },
    "tags": []
   },
   "outputs": [
    {
     "name": "stdout",
     "output_type": "stream",
     "text": [
      "10.0\n"
     ]
    }
   ],
   "source": [
    "#Convert an integer to a floating-point number.\n",
    "a=10\n",
    "print(float(a))"
   ]
  },
  {
   "cell_type": "code",
   "execution_count": 2,
   "id": "9fd26a95-7b7b-49a1-9276-4e2829bed27e",
   "metadata": {},
   "outputs": [
    {
     "name": "stdout",
     "output_type": "stream",
     "text": [
      "12\n"
     ]
    }
   ],
   "source": [
    "#Convert a float to an integer.\n",
    "a=12.34\n",
    "print(int(a))"
   ]
  },
  {
   "cell_type": "code",
   "execution_count": 3,
   "id": "89f56aad-2b69-4ae3-adb6-513fa3c64c6a",
   "metadata": {},
   "outputs": [
    {
     "name": "stdout",
     "output_type": "stream",
     "text": [
      "12\n"
     ]
    }
   ],
   "source": [
    "#Convert an integer to a string.\n",
    "a=12\n",
    "print(str(a))"
   ]
  },
  {
   "cell_type": "code",
   "execution_count": 4,
   "id": "637f1ae9-e895-4f62-aa8a-29e5d1db70e2",
   "metadata": {},
   "outputs": [
    {
     "name": "stdout",
     "output_type": "stream",
     "text": [
      "(1, 'Jasmeet', 'Engineer')\n"
     ]
    }
   ],
   "source": [
    "#Convert a list to a tuple.\n",
    "a=[1,'Jasmeet','Engineer']\n",
    "t=tuple(a)\n",
    "print(t)"
   ]
  },
  {
   "cell_type": "code",
   "execution_count": 5,
   "id": "b4069cd5-c695-4abf-9581-2e9ce923061a",
   "metadata": {},
   "outputs": [
    {
     "name": "stdout",
     "output_type": "stream",
     "text": [
      "[1, 'Jasmeet', 'Engineer']\n"
     ]
    }
   ],
   "source": [
    "#Convert a tuple to a list.\n",
    "a=(1,'Jasmeet','Engineer')\n",
    "l=list(a)\n",
    "print(l)"
   ]
  },
  {
   "cell_type": "code",
   "execution_count": 6,
   "id": "9dadba16-df46-4dd5-b1ce-584ce5de69dd",
   "metadata": {},
   "outputs": [
    {
     "name": "stdout",
     "output_type": "stream",
     "text": [
      "0b1010\n"
     ]
    }
   ],
   "source": [
    "#Convert a decimal number to binary.\n",
    "a=10\n",
    "print(bin(a))"
   ]
  },
  {
   "cell_type": "code",
   "execution_count": 7,
   "id": "b9fbc345-c7d6-4b98-923d-fa4171c05dd5",
   "metadata": {},
   "outputs": [
    {
     "name": "stdout",
     "output_type": "stream",
     "text": [
      "True\n"
     ]
    }
   ],
   "source": [
    "#Convert a non-zero number to boolean.\n",
    "a=10\n",
    "print(bool(a))"
   ]
  },
  {
   "cell_type": "code",
   "execution_count": null,
   "id": "d51b4197-40ad-40ab-bd71-aee1dcb30948",
   "metadata": {},
   "outputs": [],
   "source": []
  }
 ],
 "metadata": {
  "kernelspec": {
   "display_name": "Python 3 (ipykernel)",
   "language": "python",
   "name": "python3"
  },
  "language_info": {
   "codemirror_mode": {
    "name": "ipython",
    "version": 3
   },
   "file_extension": ".py",
   "mimetype": "text/x-python",
   "name": "python",
   "nbconvert_exporter": "python",
   "pygments_lexer": "ipython3",
   "version": "3.13.0"
  }
 },
 "nbformat": 4,
 "nbformat_minor": 5
}
