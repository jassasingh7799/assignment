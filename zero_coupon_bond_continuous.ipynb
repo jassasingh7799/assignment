{
 "cells": [
  {
   "cell_type": "code",
   "execution_count": 1,
   "id": "0aebb1f6-7c4f-4f5a-8aae-abd9c783b205",
   "metadata": {},
   "outputs": [
    {
     "name": "stdout",
     "output_type": "stream",
     "text": [
      "present value of the bond is: 923.1163463866358\n"
     ]
    }
   ],
   "source": [
    "#Zero coupon bond continous model\n",
    "from math import exp as e\n",
    "class ZeroCouponBond:\n",
    "    def __init__(self,principal,maturity,interest_rate):\n",
    "        self.principal=principal\n",
    "        self.maturity=maturity\n",
    "        self.interest_rate=interest_rate/100\n",
    "\n",
    "    def present_value(self,x,n):\n",
    "        return x*e(-self.interest_rate*n)\n",
    "\n",
    "    def calculate_price(self):\n",
    "        return self.present_value(self.principal,self.maturity)\n",
    "\n",
    "if __name__=='__main__':\n",
    "    bond=ZeroCouponBond(1000,2,4)\n",
    "    print('present value of the bond is:',bond.calculate_price())"
   ]
  },
  {
   "cell_type": "code",
   "execution_count": null,
   "id": "6ebe7076-d081-4761-9cae-2015446b8d6c",
   "metadata": {},
   "outputs": [],
   "source": []
  }
 ],
 "metadata": {
  "kernelspec": {
   "display_name": "Python 3 (ipykernel)",
   "language": "python",
   "name": "python3"
  },
  "language_info": {
   "codemirror_mode": {
    "name": "ipython",
    "version": 3
   },
   "file_extension": ".py",
   "mimetype": "text/x-python",
   "name": "python",
   "nbconvert_exporter": "python",
   "pygments_lexer": "ipython3",
   "version": "3.13.0"
  }
 },
 "nbformat": 4,
 "nbformat_minor": 5
}
