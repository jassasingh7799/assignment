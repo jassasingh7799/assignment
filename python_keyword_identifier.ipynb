{
 "cells": [
  {
   "cell_type": "markdown",
   "id": "5c0bf738-60a1-4ff6-84f8-ee419fb546fd",
   "metadata": {},
   "source": [
    "Question1-Explain the significance of Python keywords and provide examples of five keywords.\n",
    "Ans-python keywords are the special keywords that have special meaning and functions in the python programming.They cannot be used as a variables."
   ]
  },
  {
   "cell_type": "code",
   "execution_count": 5,
   "id": "16377b89-ee0b-438c-b689-9ce73336aa69",
   "metadata": {},
   "outputs": [
    {
     "name": "stdout",
     "output_type": "stream",
     "text": [
      "10 is a positive number\n"
     ]
    }
   ],
   "source": [
    "#examples\n",
    "#example 1 if keyword is used for conditional statements\n",
    "a=10\n",
    "if a >0:\n",
    "    print(f'{a} is a positive number')\n",
    "else:\n",
    "    print(f'{a} is a negative number')    "
   ]
  },
  {
   "cell_type": "code",
   "execution_count": 6,
   "id": "76578ecc-d0d8-41e5-9cb6-60669fa918e7",
   "metadata": {},
   "outputs": [
    {
     "name": "stdout",
     "output_type": "stream",
     "text": [
      "0\n",
      "1\n",
      "2\n",
      "3\n",
      "4\n",
      "5\n",
      "6\n",
      "7\n",
      "8\n",
      "9\n"
     ]
    }
   ],
   "source": [
    "#example 2 for keyword is used for looping\n",
    "a=10\n",
    "for i in range(a):\n",
    "    print(i)\n"
   ]
  },
  {
   "cell_type": "code",
   "execution_count": 8,
   "id": "5ecf6135-ad44-4435-952f-4fa3c8b05d09",
   "metadata": {},
   "outputs": [
    {
     "name": "stdout",
     "output_type": "stream",
     "text": [
      "Name of animal is Dog\n"
     ]
    }
   ],
   "source": [
    "#example 3 class keyword is used to declare a class \n",
    "class Animal:\n",
    "    def name(self,name):\n",
    "        print(f'Name of animal is {name}')\n",
    "\n",
    "a=Animal()\n",
    "a.name('Dog')"
   ]
  },
  {
   "cell_type": "code",
   "execution_count": 9,
   "id": "135d0aaf-d685-4aba-bbd5-4dae3464128e",
   "metadata": {},
   "outputs": [
    {
     "name": "stdout",
     "output_type": "stream",
     "text": [
      "8\n"
     ]
    }
   ],
   "source": [
    "#example 4 def keyword is used to define a function\n",
    "def add(x,y):\n",
    "    print(x+y)\n",
    "\n",
    "add(3,5)\n"
   ]
  },
  {
   "cell_type": "code",
   "execution_count": 11,
   "id": "952d1612-c3f2-4ac2-b1e3-9224370dcf6e",
   "metadata": {},
   "outputs": [
    {
     "name": "stdout",
     "output_type": "stream",
     "text": [
      "4.0\n"
     ]
    }
   ],
   "source": [
    "# example 5 import keyword is used to import libraries or modules\n",
    "\n",
    "import math \n",
    "print(math.sqrt(16))"
   ]
  },
  {
   "cell_type": "markdown",
   "id": "c46e4b93-92a1-4cc0-a279-a9c57bdf1d01",
   "metadata": {},
   "source": [
    "question 2- Describe the rules for defining identifiers in Python and provide an example.\n",
    "\n",
    "Answer-\n",
    "In Python, identifiers are names used to identify variables, functions, classes, modules, and other objects.\n",
    "\n",
    "Allowed Characters: Identifiers can include letters (both uppercase and lowercase), digits (0-9), and underscores (_). However, they cannot start with a digit.\n",
    "\n",
    "Case Sensitivity: Identifiers are case-sensitive. For example, myVariable, MyVariable, and MYVARIABLE are considered different identifiers.\n",
    "\n",
    "Length: There is no explicit limit to the length of an identifier, but it's best practice to keep them reasonably short while still meaningful.\n",
    "\n",
    "Reserved Words: Identifiers cannot be the same as Python's reserved keywords (like if, else, while, def, etc.).\n",
    "\n",
    "Naming Conventions: While not strictly enforced, it’s common practice to use lowercase letters for variable names, and to use CamelCase for class names\n",
    "\n",
    "Example-\n",
    "    my_variable\n",
    "    var123\n",
    "    myFunction\n",
    "    _myName"
   ]
  },
  {
   "cell_type": "markdown",
   "id": "01c527af-66a3-43e3-a374-caa5030e3d34",
   "metadata": {},
   "source": [
    "Question- What are comments in Python, and why are they useful? Provide an example.\n",
    "Answer- In Python, comments are text annotations in the code that are not executed by the interpreter. They are used to explain code, provide context, or make notes for future reference. Comments are useful for enhancing code readability and maintainability, especially in collaborative projects or complex codebases\n",
    "Example- \n",
    "1) Single line comments using #\n",
    "def square(a):\n",
    "    a**2 #code is used to calculate the square of the number\n",
    "\n",
    "2) Multi line comment using tripe quotes-\n",
    "'''\n",
    "code below will calculate the square of a number\n",
    "def square(a):                                                                                                                                                                                                              \n",
    "    a**2\n",
    "'''\n",
    "                                                                                                                                                                                                             \n",
    "                                                                                                                                                                                                                                                             \n",
    "                                                                                                                                                                                                                                                                 \n",
    "                                                                                                                                                                                                                                                                 "
   ]
  },
  {
   "cell_type": "markdown",
   "id": "27cc9a0d-814e-4446-ab14-f1b1fe38d5b8",
   "metadata": {},
   "source": [
    "question- Why is proper indentation important in Python?\n",
    "Answer- Proper indentation is crucial in Python because it defines the structure and flow of the code. Unlike many other programming languages that use braces or keywords to delimit blocks of code, Python uses indentation levels to determine the grouping of statements."
   ]
  },
  {
   "cell_type": "markdown",
   "id": "ee7e82c8-d55f-417e-add8-8a026fea0d18",
   "metadata": {},
   "source": [
    "Answer-\n",
    "If the indentation is incorrect in Python, a few things can happen:\n",
    "\n",
    "1. IndentationError: This error occurs if the code isn't lined up properly. For example, if a block of code is not indented when it should be, Python will show an error message.\n",
    "\n",
    "   ```python\n",
    "   if True:\n",
    "   print(\"Error!\")  # This will cause an IndentationError\n",
    "   ```\n",
    "\n",
    "2. SyntaxError: Sometimes, if the indentation is mixed up, it can lead to a syntax error, meaning the code can’t be understood by Python.\n",
    "\n",
    "3. Logical Errors: Even if the code runs, incorrect indentation can cause the program to behave unexpectedly. For instance, a line of code might run when it shouldn’t, leading to wrong results.\n",
    "\n",
    "4. Variable Scope Issues: If a variable is defined inside an indented block but is incorrectly indented, it might not be available outside that block when you need it."
   ]
  },
  {
   "cell_type": "markdown",
   "id": "37a2d9ef-2375-4660-97fb-ec75c8dc7a4d",
   "metadata": {},
   "source": [
    "Question- Differentiate between expression and statement in Python with examples.\n",
    "Answer-\n",
    "In Python, expressions and statements are two fundamental concepts that serve different purposes.\n",
    "\n",
    "### Expression\n",
    "\n",
    "An expression is a piece of code that evaluates to a value. Expressions can consist of variables, operators, and function calls. The key point is that they always produce a result.\n",
    "\n",
    "Examples of Expressions:\n",
    "\n",
    "1. Arithmetic Expression:\n",
    "   ```python\n",
    "   result = 3 + 5  # This expression evaluates to 8\n",
    "   ```\n",
    "\n",
    "2. String Expression:\n",
    "   ```python\n",
    "   greeting = \"Hello, \" + \"World!\"  # This evaluates to \"Hello, World!\"\n",
    "   ```\n",
    "\n",
    "3. Function Call Expression:\n",
    "   ```python\n",
    "   length = len(\"Python\")  # The expression evaluates to 6\n",
    "   ```\n",
    "\n",
    "### Statement\n",
    "\n",
    "A statement is a complete instruction that performs an action. Statements do not return a value; instead, they may change the state of the program, create variables, or control the flow of execution.\n",
    "\n",
    "Examples of Statements:\n",
    "\n",
    "1. Assignment Statement:\n",
    "   ```python\n",
    "   x = 10  # This assigns the value 10 to the variable x\n",
    "   ```\n",
    "\n",
    "2. Conditional Statement:\n",
    "   ```python\n",
    "   if x > 5:\n",
    "       print(\"x is greater than 5\")  # This is a statement that prints text if the condition is true\n",
    "   ```\n",
    "\n",
    "3. Loop Statement:\n",
    "   ```python\n",
    "   for i in range(3):\n",
    "       print(i)  # This is a statement that executes a block of code multiple times\n",
    "   ```"
   ]
  },
  {
   "cell_type": "markdown",
   "id": "749076e1-4538-45db-a97d-c5d5592418cd",
   "metadata": {},
   "source": []
  }
 ],
 "metadata": {
  "kernelspec": {
   "display_name": "Python 3 (ipykernel)",
   "language": "python",
   "name": "python3"
  },
  "language_info": {
   "codemirror_mode": {
    "name": "ipython",
    "version": 3
   },
   "file_extension": ".py",
   "mimetype": "text/x-python",
   "name": "python",
   "nbconvert_exporter": "python",
   "pygments_lexer": "ipython3",
   "version": "3.13.0"
  }
 },
 "nbformat": 4,
 "nbformat_minor": 5
}
