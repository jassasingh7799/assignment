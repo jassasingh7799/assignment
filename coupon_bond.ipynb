{
 "cells": [
  {
   "cell_type": "code",
   "execution_count": 4,
   "id": "9a0165da-818b-45aa-b2ad-3e4804844358",
   "metadata": {},
   "outputs": [
    {
     "name": "stdout",
     "output_type": "stream",
     "text": [
      "present value of the bond is: 1164.0030589427693\n"
     ]
    }
   ],
   "source": [
    "#bond value using continuos model\n",
    "from math import exp as e\n",
    "class CouponBond:\n",
    "    def __init__(self,principal,rate,maturity,interest_rate):\n",
    "        self.principal=principal\n",
    "        self.rate=rate/100\n",
    "        self.maturity=maturity\n",
    "        self.interest_rate=interest_rate/100\n",
    "    def present_value(self,x,n):\n",
    "        return x*e(-self.interest_rate*n)\n",
    "\n",
    "    def calculate_price(self):\n",
    "        price=0\n",
    "        for t in range(1,self.maturity+1):\n",
    "            price=price+self.present_value(self.principal*self.rate,t)\n",
    "\n",
    "        price=price+self.present_value(self.principal,self.maturity)\n",
    "        return price\n",
    "\n",
    "if __name__=='__main__':\n",
    "    bond=CouponBond(1000,10,3,4)\n",
    "    print('present value of the bond is:',bond.calculate_price())"
   ]
  },
  {
   "cell_type": "code",
   "execution_count": null,
   "id": "2b3999ee-9b7b-4581-9fd1-a477a8ef6a9c",
   "metadata": {},
   "outputs": [],
   "source": []
  }
 ],
 "metadata": {
  "kernelspec": {
   "display_name": "Python 3 (ipykernel)",
   "language": "python",
   "name": "python3"
  },
  "language_info": {
   "codemirror_mode": {
    "name": "ipython",
    "version": 3
   },
   "file_extension": ".py",
   "mimetype": "text/x-python",
   "name": "python",
   "nbconvert_exporter": "python",
   "pygments_lexer": "ipython3",
   "version": "3.13.0"
  }
 },
 "nbformat": 4,
 "nbformat_minor": 5
}
