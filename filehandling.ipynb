{
 "cells": [
  {
   "cell_type": "code",
   "execution_count": 9,
   "id": "c55da0d9-0d49-463a-ba85-59af12c6c419",
   "metadata": {},
   "outputs": [],
   "source": [
    "file=open(\"file.txt\",\"w\")"
   ]
  },
  {
   "cell_type": "code",
   "execution_count": 10,
   "id": "8c05d4dc-c14a-420e-9315-41e8decf65c9",
   "metadata": {},
   "outputs": [
    {
     "data": {
      "text/plain": [
       "14"
      ]
     },
     "execution_count": 10,
     "metadata": {},
     "output_type": "execute_result"
    }
   ],
   "source": [
    "file.write(\"Hello bachooo!\")"
   ]
  },
  {
   "cell_type": "code",
   "execution_count": 11,
   "id": "57420125-ef92-49e7-8fef-ea1c5d2287c4",
   "metadata": {},
   "outputs": [],
   "source": [
    "file.close()"
   ]
  },
  {
   "cell_type": "code",
   "execution_count": 12,
   "id": "8da9c1e4-4cc8-4947-8e1d-5253f7c835ba",
   "metadata": {},
   "outputs": [
    {
     "data": {
      "text/plain": [
       "True"
      ]
     },
     "execution_count": 12,
     "metadata": {},
     "output_type": "execute_result"
    }
   ],
   "source": [
    "file.closed"
   ]
  },
  {
   "cell_type": "code",
   "execution_count": 13,
   "id": "881e3780-a11d-411c-9ce2-cc98f95590e6",
   "metadata": {},
   "outputs": [],
   "source": [
    "file=open(\"file.txt\",\"w\")"
   ]
  },
  {
   "cell_type": "code",
   "execution_count": 14,
   "id": "fd2009f4-ff33-4f67-a82d-a0f893064593",
   "metadata": {},
   "outputs": [
    {
     "data": {
      "text/plain": [
       "False"
      ]
     },
     "execution_count": 14,
     "metadata": {},
     "output_type": "execute_result"
    }
   ],
   "source": [
    "file.closed"
   ]
  },
  {
   "cell_type": "code",
   "execution_count": 15,
   "id": "342d1803-8a0b-410d-9a7d-67eb0782204f",
   "metadata": {},
   "outputs": [
    {
     "data": {
      "text/plain": [
       "'file.txt'"
      ]
     },
     "execution_count": 15,
     "metadata": {},
     "output_type": "execute_result"
    }
   ],
   "source": [
    "file.name"
   ]
  },
  {
   "cell_type": "code",
   "execution_count": 16,
   "id": "678d7e89-914c-47d1-ba5c-e0257d37aadb",
   "metadata": {},
   "outputs": [
    {
     "data": {
      "text/plain": [
       "'w'"
      ]
     },
     "execution_count": 16,
     "metadata": {},
     "output_type": "execute_result"
    }
   ],
   "source": [
    "file.mode"
   ]
  },
  {
   "cell_type": "code",
   "execution_count": 21,
   "id": "22daee19-255b-4ad4-81e9-3fc1973d7141",
   "metadata": {},
   "outputs": [],
   "source": [
    "file=open('file.txt','w')\n",
    "file.write('This is my first line\\n')\n",
    "file.write('This is my Second line\\n')\n",
    "file.write('This is my third line\\n')\n",
    "file.write('This is my fourth line\\n')\n",
    "file.close()"
   ]
  },
  {
   "cell_type": "code",
   "execution_count": 22,
   "id": "0d45e8ce-d661-41d5-855f-defcf154a66a",
   "metadata": {},
   "outputs": [],
   "source": [
    "file=open('file.txt','a')\n",
    "file.write('This is my fifth line\\n')\n",
    "file.close()"
   ]
  },
  {
   "cell_type": "code",
   "execution_count": 23,
   "id": "0371f097-8354-4a94-bc59-7997cb25893e",
   "metadata": {},
   "outputs": [
    {
     "name": "stdout",
     "output_type": "stream",
     "text": [
      "This is my first line\n",
      "\n",
      "This is my Second line\n",
      "\n",
      "This is my third line\n",
      "\n",
      "This is my fourth line\n",
      "\n",
      "This is my fifth line\n",
      "\n"
     ]
    }
   ],
   "source": [
    "file=open('file.txt','r')\n",
    "for i in file:\n",
    "    print(i)"
   ]
  },
  {
   "cell_type": "code",
   "execution_count": 24,
   "id": "adc6222c-16ff-4ec7-ae83-ca5463f7d63a",
   "metadata": {},
   "outputs": [
    {
     "data": {
      "text/plain": [
       "''"
      ]
     },
     "execution_count": 24,
     "metadata": {},
     "output_type": "execute_result"
    }
   ],
   "source": [
    "file.read()"
   ]
  },
  {
   "cell_type": "code",
   "execution_count": 25,
   "id": "54445da1-bbba-4ea8-ad50-6b26a49b99dd",
   "metadata": {},
   "outputs": [
    {
     "name": "stdout",
     "output_type": "stream",
     "text": [
      "\n"
     ]
    }
   ],
   "source": [
    "print(file.read())"
   ]
  },
  {
   "cell_type": "code",
   "execution_count": 26,
   "id": "7a50ec38-f00c-43c0-b7ca-54c1d20d8520",
   "metadata": {},
   "outputs": [
    {
     "data": {
      "text/plain": [
       "117"
      ]
     },
     "execution_count": 26,
     "metadata": {},
     "output_type": "execute_result"
    }
   ],
   "source": [
    "file.tell()#tell the current position of the cursor"
   ]
  },
  {
   "cell_type": "code",
   "execution_count": 27,
   "id": "2d192d72-2134-4710-868a-bff3753cc808",
   "metadata": {},
   "outputs": [
    {
     "data": {
      "text/plain": [
       "0"
      ]
     },
     "execution_count": 27,
     "metadata": {},
     "output_type": "execute_result"
    }
   ],
   "source": [
    "file.seek(0) #change the cursor position"
   ]
  },
  {
   "cell_type": "code",
   "execution_count": 28,
   "id": "d6765719-94a3-4709-9413-072f4f8846be",
   "metadata": {},
   "outputs": [
    {
     "data": {
      "text/plain": [
       "'This is my first line\\nThis is my Second line\\nThis is my third line\\nThis is my fourth line\\nThis is my fifth line\\n'"
      ]
     },
     "execution_count": 28,
     "metadata": {},
     "output_type": "execute_result"
    }
   ],
   "source": [
    "file.read()"
   ]
  },
  {
   "cell_type": "code",
   "execution_count": 29,
   "id": "2cc57397-9072-48b6-b08a-effaf9260bff",
   "metadata": {},
   "outputs": [
    {
     "name": "stdout",
     "output_type": "stream",
     "text": [
      "This is my first line\n",
      "This is my Second line\n",
      "This is my third line\n",
      "This is my fourth line\n",
      "This is my fifth line\n",
      "\n"
     ]
    }
   ],
   "source": [
    "file=open('file.txt','r') #using file.read()\n",
    "file.seek(0)#chnage the cursor position to 0 position\n",
    "print(file.read())\n",
    "file.close()"
   ]
  },
  {
   "cell_type": "code",
   "execution_count": 32,
   "id": "e5ae1256-1e00-4650-94dd-e50725ca52c5",
   "metadata": {},
   "outputs": [
    {
     "name": "stdout",
     "output_type": "stream",
     "text": [
      "This is my first line\n",
      "\n"
     ]
    }
   ],
   "source": [
    "file=open('file.txt','r') #it will read one by one line\n",
    "file.seek(0)\n",
    "print(file.readline())\n",
    "file.close()"
   ]
  },
  {
   "cell_type": "code",
   "execution_count": 33,
   "id": "601bad7b-565e-4a6a-a373-a96e638ae34e",
   "metadata": {},
   "outputs": [
    {
     "name": "stdout",
     "output_type": "stream",
     "text": [
      "['This is my first line\\n', 'This is my Second line\\n', 'This is my third line\\n', 'This is my fourth line\\n', 'This is my fifth line\\n']\n"
     ]
    }
   ],
   "source": [
    "file=open('file.txt','r') #it will read all the lines\n",
    "file.seek(0)\n",
    "print(file.readlines())\n",
    "file.close()"
   ]
  },
  {
   "cell_type": "code",
   "execution_count": 35,
   "id": "99ec8b14-7c9a-427a-a32b-9d894878a2d1",
   "metadata": {},
   "outputs": [],
   "source": [
    "import os"
   ]
  },
  {
   "cell_type": "code",
   "execution_count": 36,
   "id": "20b970c8-6816-4afe-a30b-e1066f5dcd18",
   "metadata": {},
   "outputs": [
    {
     "data": {
      "text/plain": [
       "'C:\\\\Users\\\\jasme\\\\OneDrive\\\\Desktop\\\\Jupyter Project'"
      ]
     },
     "execution_count": 36,
     "metadata": {},
     "output_type": "execute_result"
    }
   ],
   "source": [
    "pwd"
   ]
  },
  {
   "cell_type": "code",
   "execution_count": 37,
   "id": "f39f95df-84b7-4500-b1f8-adbd3529898b",
   "metadata": {},
   "outputs": [
    {
     "data": {
      "text/plain": [
       "'C:\\\\Users\\\\jasme\\\\OneDrive\\\\Desktop\\\\Jupyter Project'"
      ]
     },
     "execution_count": 37,
     "metadata": {},
     "output_type": "execute_result"
    }
   ],
   "source": [
    "os.getcwd()"
   ]
  },
  {
   "cell_type": "code",
   "execution_count": 38,
   "id": "aa4b51d0-907d-485f-ad4e-e04309791fea",
   "metadata": {},
   "outputs": [
    {
     "name": "stdout",
     "output_type": "stream",
     "text": [
      " Volume in drive C is Windows-SSD\n",
      " Volume Serial Number is 4E1E-7413\n",
      "\n",
      " Directory of C:\\Users\\jasme\\OneDrive\\Desktop\\Jupyter Project\n",
      "\n",
      "20-11-2024  18:29    <DIR>          .\n",
      "14-11-2024  01:11    <DIR>          ..\n",
      "20-11-2024  17:39    <DIR>          .ipynb_checkpoints\n",
      "19-10-2024  01:33             4,678 break_and_continue.ipynb\n",
      "06-11-2024  16:31           158,917 CAPM.ipynb\n",
      "07-11-2024  16:30            10,363 CAPM_ASSIGNMENT.ipynb\n",
      "19-11-2024  02:19            11,785 class_method_and_static_method.ipynb\n",
      "03-11-2024  14:57             1,855 coupon_bond.ipynb\n",
      "03-11-2024  14:57               617 coupon_bond_continuous.ipynb\n",
      "18-10-2024  17:02               617 data_type.ipynb\n",
      "20-11-2024  18:05               117 file.txt\n",
      "20-11-2024  18:29             8,271 filehandling.ipynb\n",
      "23-10-2024  01:13             5,226 inbuilt_string.ipynb\n",
      "11-11-2024  17:02            18,584 introduction_to_pandas.ipynb\n",
      "19-10-2024  01:08             3,850 loops.ipynb\n",
      "05-11-2024  02:26           281,805 Markowitz.ipynb\n",
      "13-11-2024  01:19             3,341 method_overloading.ipynb\n",
      "11-11-2024  01:21            32,325 normal_gaussian.ipynb\n",
      "11-11-2024  01:41            55,678 numpy_binomial_distribution.ipynb\n",
      "24-10-2024  02:02            11,744 numpy_practice.ipynb\n",
      "20-11-2024  02:38           186,127 oops_assignment.ipynb\n",
      "20-11-2024  02:45         1,283,759 oops_assignment.pdf\n",
      "11-11-2024  01:48            40,428 poisson_distribution.ipynb\n",
      "19-10-2024  00:47            10,195 python_keyword_identifier.ipynb\n",
      "18-10-2024  17:01             5,607 python_operator.ipynb\n",
      "18-10-2024  17:23             3,263 python_type_conversion.ipynb\n",
      "18-10-2024  17:21                58 README.md\n",
      "11-11-2024  00:23            82,420 seaborn_practice.ipynb\n",
      "11-11-2024  01:53            30,827 uniform_distribution.ipynb\n",
      "18-10-2024  17:07    <DIR>          Untitled Folder\n",
      "01-11-2024  16:48             2,025 value_for_money.ipynb\n",
      "03-11-2024  14:28             1,549 zero_coupon_bond.ipynb\n",
      "03-11-2024  14:59             1,626 zero_coupon_bond_continuous.ipynb\n",
      "              29 File(s)      2,257,657 bytes\n",
      "               4 Dir(s)  424,070,004,736 bytes free\n"
     ]
    }
   ],
   "source": [
    "ls"
   ]
  },
  {
   "cell_type": "code",
   "execution_count": 39,
   "id": "ce452425-8fe3-453b-be77-315ee432a016",
   "metadata": {},
   "outputs": [
    {
     "data": {
      "text/plain": [
       "117"
      ]
     },
     "execution_count": 39,
     "metadata": {},
     "output_type": "execute_result"
    }
   ],
   "source": [
    "os.path.getsize('file.txt')"
   ]
  },
  {
   "cell_type": "code",
   "execution_count": 41,
   "id": "a4e1e6b6-eea7-4a22-a23a-6bb8dd322406",
   "metadata": {},
   "outputs": [],
   "source": [
    "os.mkdir('test_files/test1')"
   ]
  },
  {
   "cell_type": "code",
   "execution_count": 43,
   "id": "5e097d2f-0254-4beb-aba9-22292e56d490",
   "metadata": {},
   "outputs": [],
   "source": [
    "os.makedirs('test/test1/test2/test3') # to make multiple directory"
   ]
  },
  {
   "cell_type": "code",
   "execution_count": 44,
   "id": "c08a55be-72c1-4093-944e-52fbb6dc3187",
   "metadata": {},
   "outputs": [
    {
     "data": {
      "text/plain": [
       "['.ipynb_checkpoints',\n",
       " 'break_and_continue.ipynb',\n",
       " 'CAPM.ipynb',\n",
       " 'CAPM_ASSIGNMENT.ipynb',\n",
       " 'class_method_and_static_method.ipynb',\n",
       " 'coupon_bond.ipynb',\n",
       " 'coupon_bond_continuous.ipynb',\n",
       " 'data_type.ipynb',\n",
       " 'file.txt',\n",
       " 'filehandling.ipynb',\n",
       " 'inbuilt_string.ipynb',\n",
       " 'introduction_to_pandas.ipynb',\n",
       " 'loops.ipynb',\n",
       " 'Markowitz.ipynb',\n",
       " 'method_overloading.ipynb',\n",
       " 'normal_gaussian.ipynb',\n",
       " 'numpy_binomial_distribution.ipynb',\n",
       " 'numpy_practice.ipynb',\n",
       " 'oops_assignment.ipynb',\n",
       " 'oops_assignment.pdf',\n",
       " 'poisson_distribution.ipynb',\n",
       " 'python_keyword_identifier.ipynb',\n",
       " 'python_operator.ipynb',\n",
       " 'python_type_conversion.ipynb',\n",
       " 'README.md',\n",
       " 'seaborn_practice.ipynb',\n",
       " 'test',\n",
       " 'test_files',\n",
       " 'uniform_distribution.ipynb',\n",
       " 'Untitled Folder',\n",
       " 'value_for_money.ipynb',\n",
       " 'zero_coupon_bond.ipynb',\n",
       " 'zero_coupon_bond_continuous.ipynb']"
      ]
     },
     "execution_count": 44,
     "metadata": {},
     "output_type": "execute_result"
    }
   ],
   "source": [
    "os.listdir() # to list all the directory"
   ]
  },
  {
   "cell_type": "code",
   "execution_count": 47,
   "id": "42b64f91-a5e2-4d05-bceb-08e3e2b3e875",
   "metadata": {},
   "outputs": [],
   "source": [
    "os.rmdir('test_files') # it will work if the directory has only one folder"
   ]
  },
  {
   "cell_type": "code",
   "execution_count": 49,
   "id": "5383ff8d-c3c4-4396-92ca-235c94637641",
   "metadata": {},
   "outputs": [
    {
     "ename": "FileNotFoundError",
     "evalue": "[WinError 2] The system cannot find the file specified: 'test'",
     "output_type": "error",
     "traceback": [
      "\u001b[1;31m---------------------------------------------------------------------------\u001b[0m",
      "\u001b[1;31mFileNotFoundError\u001b[0m                         Traceback (most recent call last)",
      "Cell \u001b[1;32mIn[49], line 2\u001b[0m\n\u001b[0;32m      1\u001b[0m \u001b[38;5;28;01mimport\u001b[39;00m \u001b[38;5;21;01mshutil\u001b[39;00m \u001b[38;5;66;03m#it will remove multiple directories\u001b[39;00m\n\u001b[1;32m----> 2\u001b[0m \u001b[43mshutil\u001b[49m\u001b[38;5;241;43m.\u001b[39;49m\u001b[43mrmtree\u001b[49m\u001b[43m(\u001b[49m\u001b[38;5;124;43m'\u001b[39;49m\u001b[38;5;124;43mtest\u001b[39;49m\u001b[38;5;124;43m'\u001b[39;49m\u001b[43m)\u001b[49m\n",
      "File \u001b[1;32m~\\AppData\\Local\\Programs\\Python\\Python313\\Lib\\shutil.py:780\u001b[0m, in \u001b[0;36mrmtree\u001b[1;34m(path, ignore_errors, onerror, onexc, dir_fd)\u001b[0m\n\u001b[0;32m    778\u001b[0m     st \u001b[38;5;241m=\u001b[39m os\u001b[38;5;241m.\u001b[39mlstat(path)\n\u001b[0;32m    779\u001b[0m \u001b[38;5;28;01mexcept\u001b[39;00m \u001b[38;5;167;01mOSError\u001b[39;00m \u001b[38;5;28;01mas\u001b[39;00m err:\n\u001b[1;32m--> 780\u001b[0m     \u001b[43monexc\u001b[49m\u001b[43m(\u001b[49m\u001b[43mos\u001b[49m\u001b[38;5;241;43m.\u001b[39;49m\u001b[43mlstat\u001b[49m\u001b[43m,\u001b[49m\u001b[43m \u001b[49m\u001b[43mpath\u001b[49m\u001b[43m,\u001b[49m\u001b[43m \u001b[49m\u001b[43merr\u001b[49m\u001b[43m)\u001b[49m\n\u001b[0;32m    781\u001b[0m     \u001b[38;5;28;01mreturn\u001b[39;00m\n\u001b[0;32m    782\u001b[0m \u001b[38;5;28;01mtry\u001b[39;00m:\n",
      "File \u001b[1;32m~\\AppData\\Local\\Programs\\Python\\Python313\\Lib\\shutil.py:778\u001b[0m, in \u001b[0;36mrmtree\u001b[1;34m(path, ignore_errors, onerror, onexc, dir_fd)\u001b[0m\n\u001b[0;32m    776\u001b[0m     \u001b[38;5;28;01mraise\u001b[39;00m \u001b[38;5;167;01mNotImplementedError\u001b[39;00m(\u001b[38;5;124m\"\u001b[39m\u001b[38;5;124mdir_fd unavailable on this platform\u001b[39m\u001b[38;5;124m\"\u001b[39m)\n\u001b[0;32m    777\u001b[0m \u001b[38;5;28;01mtry\u001b[39;00m:\n\u001b[1;32m--> 778\u001b[0m     st \u001b[38;5;241m=\u001b[39m \u001b[43mos\u001b[49m\u001b[38;5;241;43m.\u001b[39;49m\u001b[43mlstat\u001b[49m\u001b[43m(\u001b[49m\u001b[43mpath\u001b[49m\u001b[43m)\u001b[49m\n\u001b[0;32m    779\u001b[0m \u001b[38;5;28;01mexcept\u001b[39;00m \u001b[38;5;167;01mOSError\u001b[39;00m \u001b[38;5;28;01mas\u001b[39;00m err:\n\u001b[0;32m    780\u001b[0m     onexc(os\u001b[38;5;241m.\u001b[39mlstat, path, err)\n",
      "\u001b[1;31mFileNotFoundError\u001b[0m: [WinError 2] The system cannot find the file specified: 'test'"
     ]
    }
   ],
   "source": [
    "import shutil #it will remove multiple directories\n",
    "shutil.rmtree('test')"
   ]
  },
  {
   "cell_type": "code",
   "execution_count": 53,
   "id": "56c54f48-855e-4d13-a7d5-c71b64e32b3b",
   "metadata": {},
   "outputs": [
    {
     "ename": "NameError",
     "evalue": "name 'pwd' is not defined",
     "output_type": "error",
     "traceback": [
      "\u001b[1;31m---------------------------------------------------------------------------\u001b[0m",
      "\u001b[1;31mNameError\u001b[0m                                 Traceback (most recent call last)",
      "Cell \u001b[1;32mIn[53], line 3\u001b[0m\n\u001b[0;32m      1\u001b[0m \u001b[38;5;66;03m#create a copy of the file \u001b[39;00m\n\u001b[0;32m      2\u001b[0m \u001b[38;5;28;01mimport\u001b[39;00m \u001b[38;5;21;01mos\u001b[39;00m\n\u001b[1;32m----> 3\u001b[0m \u001b[43mpwd\u001b[49m\n",
      "\u001b[1;31mNameError\u001b[0m: name 'pwd' is not defined"
     ]
    }
   ],
   "source": [
    "#create a copy of the file \n",
    "import os\n",
    "pwd"
   ]
  },
  {
   "cell_type": "code",
   "execution_count": 55,
   "id": "ec42d113-9c27-46ae-93ea-4a7d607bd303",
   "metadata": {},
   "outputs": [
    {
     "data": {
      "text/plain": [
       "'C:\\\\Users\\\\jasme\\\\OneDrive\\\\Desktop\\\\Jupyter Project'"
      ]
     },
     "execution_count": 55,
     "metadata": {},
     "output_type": "execute_result"
    }
   ],
   "source": [
    "os.getcwd()"
   ]
  },
  {
   "cell_type": "code",
   "execution_count": 58,
   "id": "c55ef350-79ec-4d09-8ecc-4ce2f38b5ac2",
   "metadata": {},
   "outputs": [],
   "source": [
    "os.mkdir('test_file')"
   ]
  },
  {
   "cell_type": "code",
   "execution_count": 61,
   "id": "11255d87-2f7e-4d6e-87ac-362b6585e53f",
   "metadata": {},
   "outputs": [
    {
     "ename": "FileNotFoundError",
     "evalue": "[Errno 2] No such file or directory: 'Desktop/Jupyter Project/test_file'",
     "output_type": "error",
     "traceback": [
      "\u001b[1;31m---------------------------------------------------------------------------\u001b[0m",
      "\u001b[1;31mFileNotFoundError\u001b[0m                         Traceback (most recent call last)",
      "Cell \u001b[1;32mIn[61], line 1\u001b[0m\n\u001b[1;32m----> 1\u001b[0m file\u001b[38;5;241m=\u001b[39m\u001b[38;5;28;43mopen\u001b[39;49m\u001b[43m(\u001b[49m\u001b[38;5;124;43m'\u001b[39;49m\u001b[38;5;124;43mDesktop/Jupyter Project/test_file\u001b[39;49m\u001b[38;5;124;43m'\u001b[39;49m\u001b[43m)\u001b[49m\n",
      "File \u001b[1;32m~\\AppData\\Local\\Programs\\Python\\Python313\\Lib\\site-packages\\IPython\\core\\interactiveshell.py:324\u001b[0m, in \u001b[0;36m_modified_open\u001b[1;34m(file, *args, **kwargs)\u001b[0m\n\u001b[0;32m    317\u001b[0m \u001b[38;5;28;01mif\u001b[39;00m file \u001b[38;5;129;01min\u001b[39;00m {\u001b[38;5;241m0\u001b[39m, \u001b[38;5;241m1\u001b[39m, \u001b[38;5;241m2\u001b[39m}:\n\u001b[0;32m    318\u001b[0m     \u001b[38;5;28;01mraise\u001b[39;00m \u001b[38;5;167;01mValueError\u001b[39;00m(\n\u001b[0;32m    319\u001b[0m         \u001b[38;5;124mf\u001b[39m\u001b[38;5;124m\"\u001b[39m\u001b[38;5;124mIPython won\u001b[39m\u001b[38;5;124m'\u001b[39m\u001b[38;5;124mt let you open fd=\u001b[39m\u001b[38;5;132;01m{\u001b[39;00mfile\u001b[38;5;132;01m}\u001b[39;00m\u001b[38;5;124m by default \u001b[39m\u001b[38;5;124m\"\u001b[39m\n\u001b[0;32m    320\u001b[0m         \u001b[38;5;124m\"\u001b[39m\u001b[38;5;124mas it is likely to crash IPython. If you know what you are doing, \u001b[39m\u001b[38;5;124m\"\u001b[39m\n\u001b[0;32m    321\u001b[0m         \u001b[38;5;124m\"\u001b[39m\u001b[38;5;124myou can use builtins\u001b[39m\u001b[38;5;124m'\u001b[39m\u001b[38;5;124m open.\u001b[39m\u001b[38;5;124m\"\u001b[39m\n\u001b[0;32m    322\u001b[0m     )\n\u001b[1;32m--> 324\u001b[0m \u001b[38;5;28;01mreturn\u001b[39;00m \u001b[43mio_open\u001b[49m\u001b[43m(\u001b[49m\u001b[43mfile\u001b[49m\u001b[43m,\u001b[49m\u001b[43m \u001b[49m\u001b[38;5;241;43m*\u001b[39;49m\u001b[43margs\u001b[49m\u001b[43m,\u001b[49m\u001b[43m \u001b[49m\u001b[38;5;241;43m*\u001b[39;49m\u001b[38;5;241;43m*\u001b[39;49m\u001b[43mkwargs\u001b[49m\u001b[43m)\u001b[49m\n",
      "\u001b[1;31mFileNotFoundError\u001b[0m: [Errno 2] No such file or directory: 'Desktop/Jupyter Project/test_file'"
     ]
    }
   ],
   "source": [
    "file=open('Desktop/Jupyter Project/test_file')"
   ]
  },
  {
   "cell_type": "code",
   "execution_count": 65,
   "id": "59b7e118-3d51-41ba-9250-05d78872379e",
   "metadata": {},
   "outputs": [
    {
     "name": "stdout",
     "output_type": "stream",
     "text": [
      "This is my first line\n",
      "\n"
     ]
    }
   ],
   "source": [
    "with open('file.txt','r') as f:\n",
    "    line=f.readline()\n",
    "    print(line)\n"
   ]
  },
  {
   "cell_type": "code",
   "execution_count": 66,
   "id": "989545c5-6fa2-45bf-8222-75070c951d1a",
   "metadata": {},
   "outputs": [
    {
     "name": "stdout",
     "output_type": "stream",
     "text": [
      "['This is my first line\\n', 'This is my Second line\\n', 'This is my third line\\n', 'This is my fourth line\\n', 'This is my fifth line\\n']\n"
     ]
    }
   ],
   "source": [
    "with open('file.txt','r') as f:\n",
    "    line=f.readlines()\n",
    "    print(line)"
   ]
  },
  {
   "cell_type": "code",
   "execution_count": 67,
   "id": "91f036ed-c6fe-4571-af96-18d6a6c2be0b",
   "metadata": {},
   "outputs": [
    {
     "name": "stdout",
     "output_type": "stream",
     "text": [
      "This is my first line\n",
      "This is my Second line\n",
      "This is my third line\n",
      "This is my fourth line\n",
      "This is my fifth line\n",
      "\n"
     ]
    }
   ],
   "source": [
    "with open('file.txt','r') as f:\n",
    "    line=f.read()\n",
    "    print(line)"
   ]
  },
  {
   "cell_type": "code",
   "execution_count": 76,
   "id": "21d9f132-7aab-4f05-8d04-5269d3d587c9",
   "metadata": {},
   "outputs": [],
   "source": [
    "#creating a text file \n",
    "\n",
    "text_content='''\n",
    "I love kawaljit kaur\n",
    "but i dont know if she loves me or not\n",
    "everyday i pray to almighty to have her in my life as i have limited days left\n",
    "please waheguru do something in my love story\n",
    "i want to see her as my life partner\n",
    "'''"
   ]
  },
  {
   "cell_type": "code",
   "execution_count": 77,
   "id": "a338b0e0-c5cc-45a9-8395-659e10be55a7",
   "metadata": {},
   "outputs": [],
   "source": [
    "with open('example.txt','w') as f:\n",
    "    f.write(text_content)\n",
    "    "
   ]
  },
  {
   "cell_type": "code",
   "execution_count": 78,
   "id": "b42a0aeb-4652-4bee-96c7-3537c93a753e",
   "metadata": {},
   "outputs": [
    {
     "name": "stdout",
     "output_type": "stream",
     "text": [
      "\n",
      "I love kawaljit kaur\n",
      "but i dont know if she loves me or not\n",
      "everyday i pray to almighty to have her in my life as i have limited days left\n",
      "please waheguru do something in my love story\n",
      "i want to see her as my life partner\n",
      "\n"
     ]
    }
   ],
   "source": [
    "with open('example.txt','r') as f:\n",
    "    data=f.read()\n",
    "\n",
    "print(data)"
   ]
  },
  {
   "cell_type": "code",
   "execution_count": 80,
   "id": "7f20eb50-800a-4611-8384-e210ce5edd70",
   "metadata": {},
   "outputs": [
    {
     "name": "stdout",
     "output_type": "stream",
     "text": [
      "['Name', 'Age', 'city']\n",
      "['Jasmeet Singh Arora', 25, 'Dehradun']\n",
      "['Kawaljit Kaur', 23, 'Dehradun']\n"
     ]
    }
   ],
   "source": [
    "#creating a csv file \n",
    "\n",
    "data=[['Name','Age','city'],['Jasmeet Singh Arora',25,'Dehradun'],['Kawaljit Kaur',23,'Dehradun']]\n",
    "\n",
    "for i in data:\n",
    "    print(i)"
   ]
  },
  {
   "cell_type": "code",
   "execution_count": 82,
   "id": "e7cba7fb-bbf8-4135-88f1-39e13b99f086",
   "metadata": {},
   "outputs": [],
   "source": [
    "#creating a csv file\n",
    "import csv\n",
    "\n",
    "with open('test_csv.csv','w') as f:\n",
    "    w=csv.writer(f)\n",
    "    for i in data:\n",
    "        w.writerow(i)"
   ]
  },
  {
   "cell_type": "code",
   "execution_count": 84,
   "id": "56e1e172-77fd-4867-bc17-df64a7082025",
   "metadata": {},
   "outputs": [
    {
     "name": "stdout",
     "output_type": "stream",
     "text": [
      "['Name', 'Age', 'city']\n",
      "[]\n",
      "['Jasmeet Singh Arora', '25', 'Dehradun']\n",
      "[]\n",
      "['Kawaljit Kaur', '23', 'Dehradun']\n",
      "[]\n"
     ]
    }
   ],
   "source": [
    "#reading a csv file\n",
    "with open('test_csv.csv','r') as f:\n",
    "    r=csv.reader(f)\n",
    "    for i in r:\n",
    "        print(i)"
   ]
  },
  {
   "cell_type": "code",
   "execution_count": 93,
   "id": "dffb780f-8194-4a38-8f86-3aeff01f78c9",
   "metadata": {},
   "outputs": [],
   "source": [
    "#creating a json file \n",
    "\n",
    "data={'Name':'Jasmeet Singh Arora',\n",
    "      'Age':26,\n",
    "      'Address':'Dehradun'\n",
    "     }"
   ]
  },
  {
   "cell_type": "code",
   "execution_count": 94,
   "id": "50083d07-3ed3-4d13-8df6-4177cdc8b5cc",
   "metadata": {},
   "outputs": [],
   "source": [
    "#creating a json file\n",
    "import json \n",
    "with open('json_file.json','w') as f:\n",
    "    json.dump(data,f)"
   ]
  },
  {
   "cell_type": "code",
   "execution_count": 95,
   "id": "27f96339-be34-4832-a93f-2daec3b7c560",
   "metadata": {},
   "outputs": [
    {
     "name": "stdout",
     "output_type": "stream",
     "text": [
      "{'Name': 'Jasmeet Singh Arora', 'Age': 26, 'Address': 'Dehradun'}\n"
     ]
    }
   ],
   "source": [
    "#reading data from the json file \n",
    "with open('json_file.json','r') as f:\n",
    "    data=json.load(f)\n",
    "\n",
    "print(data)"
   ]
  },
  {
   "cell_type": "code",
   "execution_count": 97,
   "id": "a6a7fdf4-8336-4737-bfe5-e8ddba818d26",
   "metadata": {},
   "outputs": [],
   "source": [
    "#creating a binarry file\n",
    "\n",
    "with open('data_bin.bin','wb') as f:\n",
    "    f.write(b\"\\x48\\x65\")"
   ]
  },
  {
   "cell_type": "code",
   "execution_count": 99,
   "id": "7f37b138-ad32-4f07-969e-2f3813c85e3d",
   "metadata": {},
   "outputs": [
    {
     "name": "stdout",
     "output_type": "stream",
     "text": [
      "b'He'\n"
     ]
    }
   ],
   "source": [
    "with open('data_bin.bin','rb') as f:\n",
    "    print(f.read())\n",
    "          "
   ]
  },
  {
   "cell_type": "code",
   "execution_count": null,
   "id": "2520cb01-605c-4b21-b7a3-39cf0bc76212",
   "metadata": {},
   "outputs": [],
   "source": [
    "#buffered reading>> it allows the user to read and write the data in chunks\n",
    "#buffered writing"
   ]
  },
  {
   "cell_type": "code",
   "execution_count": 102,
   "id": "75011bec-3b1e-4fbf-a2a6-64b53a086f8d",
   "metadata": {},
   "outputs": [],
   "source": [
    "import io\n",
    "with open('file_buf.txt','wb') as f:\n",
    "    file=io.BufferedWriter(f)\n",
    "    file.write(b\"Hello bhai log\")\n",
    "    file.write(b\"kaise ho bhai log\")\n",
    "    file.write(b\"Sab badiya bhai log\")\n",
    "    file.flush()"
   ]
  },
  {
   "cell_type": "code",
   "execution_count": 104,
   "id": "4d6d86e5-422b-4995-a2c7-49819627f1e9",
   "metadata": {},
   "outputs": [
    {
     "name": "stdout",
     "output_type": "stream",
     "text": [
      "b'Hello bhai'\n"
     ]
    }
   ],
   "source": [
    "with open('file_buf.txt','rb') as f:\n",
    "    file=io.BufferedReader(f)\n",
    "    data=file.read(10)\n",
    "    print(data)"
   ]
  },
  {
   "cell_type": "code",
   "execution_count": null,
   "id": "b94b6c39-c09a-4c6e-88ac-0809587fae82",
   "metadata": {},
   "outputs": [],
   "source": []
  }
 ],
 "metadata": {
  "kernelspec": {
   "display_name": "Python 3 (ipykernel)",
   "language": "python",
   "name": "python3"
  },
  "language_info": {
   "codemirror_mode": {
    "name": "ipython",
    "version": 3
   },
   "file_extension": ".py",
   "mimetype": "text/x-python",
   "name": "python",
   "nbconvert_exporter": "python",
   "pygments_lexer": "ipython3",
   "version": "3.13.0"
  }
 },
 "nbformat": 4,
 "nbformat_minor": 5
}
