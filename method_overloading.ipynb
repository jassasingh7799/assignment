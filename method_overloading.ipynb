{
 "cells": [
  {
   "cell_type": "markdown",
   "id": "5e134191-1bae-417e-814f-191abc051d6d",
   "metadata": {},
   "source": [
    "### Definition of **Method Overloading** in Python:\n",
    "\n",
    "**Method overloading** refers to the ability to define multiple methods with the **same name** but with different **parameter lists** (either in terms of the number or type of parameters). However, **Python does not support traditional method overloading** in the same way as languages like Java or C++.\n",
    "\n",
    "In languages with traditional method overloading, you can define multiple methods with the same name but different parameter signatures. The correct method is chosen based on the number or type of arguments passed when the method is called.\n",
    "\n",
    "In Python, method overloading is not natively supported due to dynamic typing (you cannot define multiple methods with the same name in the same class). However, you can achieve similar behavior by using **default arguments**, **variable-length argument lists** (`*args` or `**kwargs`), or by manually checking the number and types of arguments inside a method.\n",
    "\n",
    "### Python's Approach to \"Overloading\":\n",
    "1. **Default Arguments**: You can provide default values for arguments, allowing a method to accept different numbers of arguments.\n",
    "2. **Variable-Length Arguments**: Using `*args` or `**kwargs`, a method can accept an arbitrary number of arguments, which mimics overloading behavior.\n",
    "3. **Manual Argument Checking**: You can manually check the types or the number of arguments passed to the method and adjust the behavior accordingly.\n",
    "\n",
    "### Example of Simulating Overloading Using Default Arguments:\n",
    "\n",
    "```python\n",
    "class Calculator:\n",
    "    def add(self, a, b=0, c=0):\n",
    "        return a + b + c\n",
    "\n",
    "# Create an object of Calculator\n",
    "calc = Calculator()\n",
    "\n",
    "# Calling the method with different numbers of arguments\n",
    "print(calc.add(5))         # Outputs: 5 (one argument)\n",
    "print(calc.add(5, 10))     # Outputs: 15 (two arguments)\n",
    "print(calc.add(5, 10, 15)) # Outputs: 30 (three arguments)\n",
    "```\n",
    "\n",
    "### Key Points:\n",
    "- Python does **not support multiple methods with the same name** but different signatures. If you try to define two methods with the same name, the second definition will overwrite the first.\n",
    "- **Method overloading** in Python is typically achieved by using **default arguments** or **`*args`/`**kwargs`** to make methods flexible in terms of the number and type of arguments they can accept.\n",
    "\n",
    "In summary, while Python does not support traditional method overloading, you can simulate it using techniques like default arguments and variable-length argument lists."
   ]
  }
 ],
 "metadata": {
  "kernelspec": {
   "display_name": "Python 3 (ipykernel)",
   "language": "python",
   "name": "python3"
  },
  "language_info": {
   "codemirror_mode": {
    "name": "ipython",
    "version": 3
   },
   "file_extension": ".py",
   "mimetype": "text/x-python",
   "name": "python",
   "nbconvert_exporter": "python",
   "pygments_lexer": "ipython3",
   "version": "3.13.0"
  }
 },
 "nbformat": 4,
 "nbformat_minor": 5
}
