{
 "cells": [
  {
   "cell_type": "code",
   "execution_count": 3,
   "id": "f21508ed-a8db-4db8-bb89-688ec3a872ee",
   "metadata": {},
   "outputs": [
    {
     "name": "stdout",
     "output_type": "stream",
     "text": [
      "Future value of discrete model 127.62815625000003\n",
      "Present value of discrete model 78.35261664684589\n",
      "Future value of continuos model 128.40254166877415\n",
      "Present value of continuos model 77.8800783071405\n"
     ]
    }
   ],
   "source": [
    "from math import exp as e\n",
    "\n",
    "def future_discrete_value(x,r,n):\n",
    "    return x*(1+r)**n\n",
    "\n",
    "def present_discrete_value(x,r,n):\n",
    "    return x*(1+r)**-n\n",
    "\n",
    "def future_continuos_value(x,r,t):\n",
    "    return x*e(r*t)\n",
    "\n",
    "def present_continuos_value(x,r,t):\n",
    "    return x*e(-r*t)\n",
    "\n",
    "if __name__=='__main__':\n",
    "    #present value\n",
    "    x=100\n",
    "    #rate of interest\n",
    "    r=0.05\n",
    "    #number(years)\n",
    "    n=5\n",
    "    print('Future value of discrete model',future_discrete_value(x,r,n))\n",
    "    print('Present value of discrete model',present_discrete_value(x,r,n))\n",
    "    print('Future value of continuos model',future_continuos_value(x,r,n))\n",
    "    print('Present value of continuos model',present_continuos_value(x,r,n))\n",
    "    \n"
   ]
  },
  {
   "cell_type": "code",
   "execution_count": null,
   "id": "1ba5174c-ca56-43d4-b0ac-3cb85c46fd4a",
   "metadata": {},
   "outputs": [],
   "source": []
  }
 ],
 "metadata": {
  "kernelspec": {
   "display_name": "Python 3 (ipykernel)",
   "language": "python",
   "name": "python3"
  },
  "language_info": {
   "codemirror_mode": {
    "name": "ipython",
    "version": 3
   },
   "file_extension": ".py",
   "mimetype": "text/x-python",
   "name": "python",
   "nbconvert_exporter": "python",
   "pygments_lexer": "ipython3",
   "version": "3.13.0"
  }
 },
 "nbformat": 4,
 "nbformat_minor": 5
}
