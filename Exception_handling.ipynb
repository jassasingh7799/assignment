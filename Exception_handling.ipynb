{
 "cells": [
  {
   "cell_type": "code",
   "execution_count": 1,
   "id": "1d420ecf-30ff-48b6-ba15-8ca7c2e1b1f6",
   "metadata": {},
   "outputs": [
    {
     "data": {
      "text/plain": [
       "0.5555555555555556"
      ]
     },
     "execution_count": 1,
     "metadata": {},
     "output_type": "execute_result"
    }
   ],
   "source": [
    "5/9"
   ]
  },
  {
   "cell_type": "code",
   "execution_count": 2,
   "id": "89161165-6d05-4033-b226-4fdafeb52a58",
   "metadata": {},
   "outputs": [
    {
     "data": {
      "text/plain": [
       "2.0"
      ]
     },
     "execution_count": 2,
     "metadata": {},
     "output_type": "execute_result"
    }
   ],
   "source": [
    "6/3"
   ]
  },
  {
   "cell_type": "code",
   "execution_count": 3,
   "id": "db9c96eb-1da6-43e0-b9b1-99c7d84cce05",
   "metadata": {},
   "outputs": [
    {
     "ename": "ZeroDivisionError",
     "evalue": "division by zero",
     "output_type": "error",
     "traceback": [
      "\u001b[1;31m---------------------------------------------------------------------------\u001b[0m",
      "\u001b[1;31mZeroDivisionError\u001b[0m                         Traceback (most recent call last)",
      "Cell \u001b[1;32mIn[3], line 1\u001b[0m\n\u001b[1;32m----> 1\u001b[0m \u001b[38;5;241;43m3\u001b[39;49m\u001b[38;5;241;43m/\u001b[39;49m\u001b[38;5;241;43m0\u001b[39;49m\n",
      "\u001b[1;31mZeroDivisionError\u001b[0m: division by zero"
     ]
    }
   ],
   "source": [
    "3/0"
   ]
  },
  {
   "cell_type": "code",
   "execution_count": 4,
   "id": "a792c48e-fa47-4905-9c98-8f593204ec66",
   "metadata": {},
   "outputs": [
    {
     "name": "stdout",
     "output_type": "stream",
     "text": [
      "0.75\n",
      "0.8571428571428571\n",
      "3.0\n"
     ]
    },
    {
     "ename": "ZeroDivisionError",
     "evalue": "division by zero",
     "output_type": "error",
     "traceback": [
      "\u001b[1;31m---------------------------------------------------------------------------\u001b[0m",
      "\u001b[1;31mZeroDivisionError\u001b[0m                         Traceback (most recent call last)",
      "Cell \u001b[1;32mIn[4], line 4\u001b[0m\n\u001b[0;32m      2\u001b[0m \u001b[38;5;28mprint\u001b[39m(\u001b[38;5;241m6\u001b[39m\u001b[38;5;241m/\u001b[39m\u001b[38;5;241m7\u001b[39m)\n\u001b[0;32m      3\u001b[0m \u001b[38;5;28mprint\u001b[39m(\u001b[38;5;241m3\u001b[39m\u001b[38;5;241m/\u001b[39m\u001b[38;5;241m1\u001b[39m)\n\u001b[1;32m----> 4\u001b[0m \u001b[38;5;28mprint\u001b[39m(\u001b[38;5;241;43m7\u001b[39;49m\u001b[38;5;241;43m/\u001b[39;49m\u001b[38;5;241;43m0\u001b[39;49m)\n\u001b[0;32m      5\u001b[0m \u001b[38;5;28mprint\u001b[39m(\u001b[38;5;241m2\u001b[39m\u001b[38;5;241m/\u001b[39m\u001b[38;5;241m3\u001b[39m)\n\u001b[0;32m      6\u001b[0m \u001b[38;5;28mprint\u001b[39m(\u001b[38;5;241m5\u001b[39m\u001b[38;5;241m/\u001b[39m\u001b[38;5;241m2\u001b[39m)\n",
      "\u001b[1;31mZeroDivisionError\u001b[0m: division by zero"
     ]
    }
   ],
   "source": [
    "print(3/4)\n",
    "print(6/7)\n",
    "print(3/1)\n",
    "print(7/0)\n",
    "print(2/3)\n",
    "print(5/2)"
   ]
  },
  {
   "cell_type": "code",
   "execution_count": 10,
   "id": "bc166be7-702b-4187-b541-11148c1b6087",
   "metadata": {},
   "outputs": [
    {
     "name": "stdout",
     "output_type": "stream",
     "text": [
      "There is issue with my code [Errno 2] No such file or directory: 'file_open.txt'\n",
      "This is my next step of code\n",
      "This is my second step of code\n"
     ]
    },
    {
     "data": {
      "text/plain": [
       "10"
      ]
     },
     "execution_count": 10,
     "metadata": {},
     "output_type": "execute_result"
    }
   ],
   "source": [
    "try:\n",
    "    f=open('file_open.txt','r')\n",
    "except Exception as e:\n",
    "    print('There is issue with my code',e)\n",
    "print('This is my next step of code')\n",
    "print('This is my second step of code')\n",
    "a=10\n",
    "a"
   ]
  },
  {
   "cell_type": "code",
   "execution_count": 12,
   "id": "fc8893b7-a124-454a-99d4-b231e478c5f8",
   "metadata": {},
   "outputs": [
    {
     "name": "stdout",
     "output_type": "stream",
     "text": [
      "Code has error division by zero\n",
      "This is the 1st line of code\n",
      "This is the 2nd line of code\n"
     ]
    },
    {
     "data": {
      "text/plain": [
       "10"
      ]
     },
     "execution_count": 12,
     "metadata": {},
     "output_type": "execute_result"
    }
   ],
   "source": [
    "try:\n",
    "    5/0\n",
    "except Exception as e:\n",
    "    print('Code has error',e)\n",
    "print('This is the 1st line of code')\n",
    "print('This is the 2nd line of code')\n",
    "a=10\n",
    "a"
   ]
  },
  {
   "cell_type": "code",
   "execution_count": 14,
   "id": "bbc97c4a-7ebc-464d-b924-43ce988308f3",
   "metadata": {},
   "outputs": [
    {
     "name": "stdout",
     "output_type": "stream",
     "text": [
      "This will be executed when there will be no exception\n"
     ]
    }
   ],
   "source": [
    "#try except block has no exception\n",
    "try:\n",
    "    5/2\n",
    "except Exception as e:\n",
    "    print('Code has error',e)\n",
    "else:\n",
    "    print('This will be executed when there will be no exception')"
   ]
  },
  {
   "cell_type": "code",
   "execution_count": 15,
   "id": "7da62f85-e186-4a77-bd66-421cdefd7abc",
   "metadata": {},
   "outputs": [
    {
     "name": "stdout",
     "output_type": "stream",
     "text": [
      "Code has error division by zero\n"
     ]
    }
   ],
   "source": [
    "#try except block has exception\n",
    "try:\n",
    "    5/0\n",
    "except Exception as e:\n",
    "    print('Code has error',e)\n",
    "else:\n",
    "    print('This will be executed when there will be no exception')"
   ]
  },
  {
   "cell_type": "code",
   "execution_count": 16,
   "id": "79b1d8b1-cb35-4b30-ba93-3a0b120f9b7b",
   "metadata": {},
   "outputs": [
    {
     "name": "stdout",
     "output_type": "stream",
     "text": [
      "There is no issue at the time of opening the file\n"
     ]
    }
   ],
   "source": [
    "#try except in file handling\n",
    "try:\n",
    "    f=open('try.txt','w')\n",
    "except Exception as e:\n",
    "    print('Failed to open the file',e)\n",
    "else:\n",
    "    print('There is no issue at the time of opening the file')"
   ]
  },
  {
   "cell_type": "code",
   "execution_count": 17,
   "id": "753fe7db-c7dc-426f-b60f-68eb1d2ebfa5",
   "metadata": {},
   "outputs": [
    {
     "name": "stdout",
     "output_type": "stream",
     "text": [
      "File was written successfully\n"
     ]
    }
   ],
   "source": [
    "#try except and else and write the file and close the file\n",
    "try:\n",
    "    f=open('try.txt','w')\n",
    "    f.write('This is my first line of code in try except handling')\n",
    "except Exception as e:\n",
    "    print('Fail to write the file and failed with error',e)\n",
    "else:\n",
    "    f.close()\n",
    "    print('File was written successfully')\n",
    "          \n",
    "    "
   ]
  },
  {
   "cell_type": "code",
   "execution_count": 19,
   "id": "0229bf06-4652-49eb-8306-4b867ecd0a52",
   "metadata": {},
   "outputs": [
    {
     "name": "stdout",
     "output_type": "stream",
     "text": [
      "File was written successfully and file was close\n",
      "This line of code would be executed irrespective of the try except block failure\n"
     ]
    }
   ],
   "source": [
    "#try,except,else and finally and write the file and close the file with a mandatory message in finally block\n",
    "\n",
    "try:\n",
    "    f=open('try1.txt','w')\n",
    "    f.write('This is my first line of code in the try exception handling')\n",
    "except Exception as e:\n",
    "    print('Fail to write the file and failed with the error',e)\n",
    "else:\n",
    "    f.close()\n",
    "    print('File was written successfully and file was close')\n",
    "\n",
    "finally:\n",
    "    print('This line of code would be executed irrespective of the try except block failure')"
   ]
  },
  {
   "cell_type": "code",
   "execution_count": 22,
   "id": "fd7b5a7f-8df3-4cfe-ac43-1ecf61cf0d70",
   "metadata": {},
   "outputs": [],
   "source": [
    "#custom exception create a custom exception class and methods \n",
    "\n",
    "class ValidateSalary(Exception): #created a custom class\n",
    "    def __init__(self,msg):\n",
    "        self.msg=msg"
   ]
  },
  {
   "cell_type": "code",
   "execution_count": 23,
   "id": "2f514ecf-be4b-4eff-aef6-59ccbb8aae92",
   "metadata": {},
   "outputs": [],
   "source": [
    "def validate_salary(salary):\n",
    "    if salary < 0:\n",
    "        raise ValidateSalary('Salary cannnot be negative')\n",
    "    elif salary>20000000:\n",
    "        raise ValidateSalary('This much salary is not possible')\n",
    "    else:\n",
    "        print('Valid salary and the amount is',salary)\n",
    "    "
   ]
  },
  {
   "cell_type": "code",
   "execution_count": 26,
   "id": "ed1bed56-dbd8-4600-90de-3f75bee55604",
   "metadata": {},
   "outputs": [
    {
     "name": "stdin",
     "output_type": "stream",
     "text": [
      "enter your salary -80\n"
     ]
    },
    {
     "name": "stdout",
     "output_type": "stream",
     "text": [
      "Salary cannnot be negative\n"
     ]
    }
   ],
   "source": [
    "try:\n",
    "    salary=int(input(\"enter your salary\"))\n",
    "    validate_salary(salary)\n",
    "except ValidateSalary as e:\n",
    "    print(e)\n",
    "else:\n",
    "    print('bhai bhot achi salary hai apki')"
   ]
  },
  {
   "cell_type": "code",
   "execution_count": 34,
   "id": "c7778351-021d-4c06-8680-4c5b26cfbd0e",
   "metadata": {},
   "outputs": [
    {
     "name": "stdout",
     "output_type": "stream",
     "text": [
      "This is the error division by zero\n"
     ]
    }
   ],
   "source": [
    "#handle Zero division error when try to divide a number by zero\n",
    "try:\n",
    "    10/0\n",
    "except ZeroDivisionError as e:\n",
    "    print('This is the error',e)"
   ]
  },
  {
   "cell_type": "code",
   "execution_count": 30,
   "id": "004b0e8e-895e-4f0f-b7a4-bf5d9e0a9510",
   "metadata": {},
   "outputs": [
    {
     "name": "stdout",
     "output_type": "stream",
     "text": [
      "This is the error invalid literal for int() with base 10: 'Value Error'\n"
     ]
    }
   ],
   "source": [
    "#handle value error when try to convert string to int\n",
    "try:\n",
    "    int('Value Error')\n",
    "except ValueError as e:\n",
    "    print('This is the error',e)"
   ]
  },
  {
   "cell_type": "code",
   "execution_count": 32,
   "id": "3b7a92a3-d061-49ce-a7c2-5145f84d4593",
   "metadata": {},
   "outputs": [
    {
     "name": "stdout",
     "output_type": "stream",
     "text": [
      "This is the error invalid literal for int() with base 10: 'Value Error'\n"
     ]
    }
   ],
   "source": [
    "#handle value error when try to convert string to int\n",
    "try:\n",
    "    int('Value Error')\n",
    "except (ValueError,TypeError) as e:\n",
    "    print('This is the error',e)"
   ]
  },
  {
   "cell_type": "code",
   "execution_count": 33,
   "id": "86e1a129-4a76-437a-9bf5-34cbb4067c96",
   "metadata": {},
   "outputs": [
    {
     "name": "stdout",
     "output_type": "stream",
     "text": [
      "Module not found No module named 'Jasmeet'\n"
     ]
    }
   ],
   "source": [
    "#handle module not found error\n",
    "try:\n",
    "    import Jasmeet\n",
    "except ModuleNotFoundError as e:\n",
    "    print('Module not found',e)"
   ]
  },
  {
   "cell_type": "code",
   "execution_count": 35,
   "id": "1c96542b-3a8c-4993-ba89-5e8a81bd67f5",
   "metadata": {},
   "outputs": [
    {
     "name": "stdout",
     "output_type": "stream",
     "text": [
      "name 'jasmeet' is not defined\n"
     ]
    }
   ],
   "source": [
    "#handle method not found error\n",
    "try:\n",
    "    jasmeet()\n",
    "except NameError as e:\n",
    "    print(e)"
   ]
  },
  {
   "cell_type": "code",
   "execution_count": 38,
   "id": "82639c0f-4aa4-4363-9bb6-fccba8a7154a",
   "metadata": {},
   "outputs": [
    {
     "name": "stdout",
     "output_type": "stream",
     "text": [
      "Key not found 'fees'\n"
     ]
    }
   ],
   "source": [
    "#keyError when key is not available \n",
    "try:\n",
    "    s={'name':'Jasmeet Singh Arora','Age':25,'Place':'Dehradun'}\n",
    "    s['fees']\n",
    "except KeyError as e:\n",
    "    print('Key not found',e)"
   ]
  },
  {
   "cell_type": "code",
   "execution_count": 40,
   "id": "cf6c9996-158d-42ee-b92e-9ff85af5b537",
   "metadata": {},
   "outputs": [
    {
     "name": "stdout",
     "output_type": "stream",
     "text": [
      "list index out of range\n"
     ]
    }
   ],
   "source": [
    "#index error when index is not present\n",
    "try:\n",
    "    l=[1,2,3,4,5]\n",
    "    l[5]\n",
    "except IndexError as e:\n",
    "    print(e)"
   ]
  },
  {
   "cell_type": "code",
   "execution_count": 42,
   "id": "f04ee6c8-f5f1-4cc1-834c-a0c162b0b8ed",
   "metadata": {},
   "outputs": [
    {
     "name": "stdout",
     "output_type": "stream",
     "text": [
      "[Errno 2] No such file or directory: 'jasmeet.txt'\n"
     ]
    }
   ],
   "source": [
    "#handle file not found error\n",
    "try:\n",
    "    f=open('jasmeet.txt','r')\n",
    "    f.read()\n",
    "except FileNotFoundError as e:\n",
    "    print(e)\n"
   ]
  },
  {
   "cell_type": "code",
   "execution_count": 44,
   "id": "e6c44c56-83fb-4170-be4a-89e244021564",
   "metadata": {},
   "outputs": [
    {
     "name": "stdout",
     "output_type": "stream",
     "text": [
      "my first msg [Errno 2] No such file or directory: 'jasmeet.txt'\n"
     ]
    }
   ],
   "source": [
    "#handle file not found error if two exceptions are given only the first one would be displayed\n",
    "try:\n",
    "    f=open('jasmeet.txt','r')\n",
    "    f.read()\n",
    "except Exception as e:\n",
    "    print('my first msg',e)\n",
    "except FileNotFoundError as e:\n",
    "    print('my second msg',e)"
   ]
  },
  {
   "cell_type": "code",
   "execution_count": 46,
   "id": "6a1f0a42-cbb7-4048-ba2a-7d4c480d78b6",
   "metadata": {},
   "outputs": [],
   "source": [
    "#always try to logging \n",
    "\n",
    "import logging\n",
    "logging.basicConfig(filename='logging_file.txt',level=logging.DEBUG)\n",
    "try:\n",
    "    f=open('Jasmeet.txt','r')\n",
    "    f.read()\n",
    "except FileNotFoundError as e:\n",
    "    logging.error(f'This is my error {e}')"
   ]
  },
  {
   "cell_type": "code",
   "execution_count": 47,
   "id": "b3769f94-ec1b-47fe-8659-e053a910b1fb",
   "metadata": {},
   "outputs": [],
   "source": [
    "#always try to logging \n",
    "\n",
    "import logging\n",
    "logging.basicConfig(filename='logging_file.txt',level=logging.DEBUG)\n",
    "try:\n",
    "    10/0\n",
    "except ZeroDivisionError as e:\n",
    "    logging.error(f'This is my error {e}')"
   ]
  },
  {
   "cell_type": "code",
   "execution_count": 48,
   "id": "b2a3fc02-eb88-44f4-b307-99d1b0257eb5",
   "metadata": {},
   "outputs": [
    {
     "name": "stdout",
     "output_type": "stream",
     "text": [
      "This is the error [Errno 2] No such file or directory: 'Jasmeet.txt'\n"
     ]
    }
   ],
   "source": [
    "#use it inside a function\n",
    "\n",
    "def test(file):\n",
    "    try:\n",
    "        f=open(file,'r')\n",
    "        f.read()\n",
    "    except FileNotFoundError as e:\n",
    "        print('This is the error',e)\n",
    "\n",
    "test('Jasmeet.txt')"
   ]
  },
  {
   "cell_type": "code",
   "execution_count": 49,
   "id": "6272c865-2089-4a2e-b5ea-91fcceedbaca",
   "metadata": {},
   "outputs": [],
   "source": [
    "#always cleanup close the file \n",
    "\n",
    "try:\n",
    "    f=open('try.txt','r')\n",
    "    f.read()\n",
    "except FileNotFoundError as e:\n",
    "    print('This is the error',e)\n",
    "finally:\n",
    "    f.close()"
   ]
  },
  {
   "cell_type": "code",
   "execution_count": 50,
   "id": "d995228d-d15f-4f5d-b49a-7d51afeb0134",
   "metadata": {},
   "outputs": [],
   "source": [
    "#always cleanup close the file \n",
    "\n",
    "try:\n",
    "    f=open('try1.txt','w')\n",
    "    f.write('Hello World bhai log')\n",
    "except FileNotFoundError as e:\n",
    "    print('This is the error',e)\n",
    "finally:\n",
    "    f.close()"
   ]
  },
  {
   "cell_type": "code",
   "execution_count": null,
   "id": "32a0e7e9-a4bf-4de6-8661-a46cfb03c0f8",
   "metadata": {},
   "outputs": [],
   "source": []
  }
 ],
 "metadata": {
  "kernelspec": {
   "display_name": "Python 3 (ipykernel)",
   "language": "python",
   "name": "python3"
  },
  "language_info": {
   "codemirror_mode": {
    "name": "ipython",
    "version": 3
   },
   "file_extension": ".py",
   "mimetype": "text/x-python",
   "name": "python",
   "nbconvert_exporter": "python",
   "pygments_lexer": "ipython3",
   "version": "3.13.0"
  }
 },
 "nbformat": 4,
 "nbformat_minor": 5
}
